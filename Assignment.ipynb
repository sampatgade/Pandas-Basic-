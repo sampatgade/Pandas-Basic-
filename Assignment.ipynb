{
 "cells": [
  {
   "cell_type": "code",
   "execution_count": 1,
   "id": "09cae9ff-dfda-4705-8782-4aa70d651cee",
   "metadata": {},
   "outputs": [],
   "source": [
    "##Create a Pandas Series that contains the following data: 4, 8, 15, 16, 23, and 42. Then, print the series."
   ]
  },
  {
   "cell_type": "code",
   "execution_count": 2,
   "id": "c74e84aa-acec-4a82-b185-e470ec76fb06",
   "metadata": {},
   "outputs": [
    {
     "name": "stdout",
     "output_type": "stream",
     "text": [
      "0     4\n",
      "1     8\n",
      "2    15\n",
      "3    16\n",
      "4    23\n",
      "5    42\n",
      "dtype: int64\n"
     ]
    }
   ],
   "source": [
    "import pandas as pd\n",
    "\n",
    "data =[4,8,15,16,23,42]\n",
    "series = pd.Series(data)\n",
    "print(series)"
   ]
  },
  {
   "cell_type": "code",
   "execution_count": 3,
   "id": "3d9f7023-909b-4445-becf-d3bdade454c0",
   "metadata": {},
   "outputs": [],
   "source": [
    "##Create a variable of list type containing 10 elements in it, and apply pandas.Series function on the\n",
    "##variable print it."
   ]
  },
  {
   "cell_type": "code",
   "execution_count": 4,
   "id": "41c271e9-6f31-4122-9a5a-879945a8f4c7",
   "metadata": {},
   "outputs": [
    {
     "name": "stdout",
     "output_type": "stream",
     "text": [
      "0     10\n",
      "1     20\n",
      "2     30\n",
      "3     40\n",
      "4     50\n",
      "5     60\n",
      "6     70\n",
      "7     80\n",
      "8     90\n",
      "9    100\n",
      "dtype: int64\n"
     ]
    }
   ],
   "source": [
    "my_list = [10,20,30,40,50,60,70,80,90,100]\n",
    "series = pd.Series(my_list)\n",
    "print(series)"
   ]
  },
  {
   "cell_type": "code",
   "execution_count": 5,
   "id": "155e3675-c382-469a-acbe-0bef2b13f176",
   "metadata": {},
   "outputs": [],
   "source": [
    "## Create a Pandas DataFrame that contains the following data:"
   ]
  },
  {
   "cell_type": "code",
   "execution_count": 10,
   "id": "50ee589f-4f10-4c40-9e09-d7965061fef9",
   "metadata": {},
   "outputs": [
    {
     "name": "stdout",
     "output_type": "stream",
     "text": [
      "     Name  Age  Gender\n",
      "0    Soni   25  Female\n",
      "1    Monu   30    Male\n",
      "2  Chintu   27  Female\n"
     ]
    }
   ],
   "source": [
    "\n",
    "data = {'Name':['Soni','Monu','Chintu'], 'Age':[25,30,27], 'Gender':['Female', 'Male', 'Female']}\n",
    "df = pd.DataFrame(data)\n",
    "print(df)                                                                     "
   ]
  },
  {
   "cell_type": "code",
   "execution_count": 11,
   "id": "cf4874dc-d7da-49fe-8b39-ab57aaefb8d0",
   "metadata": {},
   "outputs": [],
   "source": [
    "##What are some common functions you can use to manipulate data in a Pandas DataFrame? Can\n",
    "##you give an example of when you might use one of these functions?"
   ]
  },
  {
   "cell_type": "code",
   "execution_count": 12,
   "id": "2c4ac27d-ba43-4200-b6ff-8cf9d22a2cdc",
   "metadata": {},
   "outputs": [],
   "source": [
    "##head() and tail(): These functions allow you to view the first or last n rows of a DataFrame. For example, df.head() will return the first five rows of the DataFrame df.\n",
    "\n",
    "##info(): This function displays a summary of the DataFrame, including the data types of each column and the number of non-null values.\n",
    "\n",
    "##describe(): This function provides summary statistics for each numerical column in the DataFrame, such as mean, standard deviation, minimum, maximum, and quartile values.\n",
    "\n",
    "##loc[] and iloc[]: These functions allow you to access and manipulate specific rows and columns of the DataFrame based on their labels or indices. For example, df.loc[0, 'Name'] will return the value in the first row and 'Name' column of the DataFrame df.\n",
    "\n",
    "##drop(): This function allows you to remove a row or column from the DataFrame. For example, df.drop('Gender', axis=1) will remove the 'Gender' column from the DataFrame df.\n",
    "\n",
    "##groupby(): This function allows you to group rows in the DataFrame based on the values in one or more columns, and then apply a function to each group. For example, df.groupby('Gender')['Age'].mean() will group the DataFrame df by 'Gender' and calculate the mean age for each group.\n",
    "\n",
    "##merge(): This function allows you to combine two DataFrames based on a common column. For example, if you have two DataFrames df1 and df2 with a common column 'ID', pd.merge(df1, df2, on='ID') will merge the two DataFrames based on the 'ID' column."
   ]
  },
  {
   "cell_type": "code",
   "execution_count": 13,
   "id": "23f2b9cb-3095-4e5b-a331-11c9ce88e0e0",
   "metadata": {},
   "outputs": [],
   "source": [
    "##Which of the following is mutable in nature Series, DataFrame, Panel?"
   ]
  },
  {
   "cell_type": "code",
   "execution_count": 14,
   "id": "e37d7d28-ee20-43a1-965d-d88fa0944b51",
   "metadata": {},
   "outputs": [],
   "source": [
    "##In Pandas, both Series and DataFrame are mutable in nature, which means that you can modify their values, add or remove rows or columns, and perform other operations that change the data in place. However, Panel is deprecated in the latest version of Pandas and replaced by other data structures, such as MultiIndex DataFrames, and is immutable in nature."
   ]
  },
  {
   "cell_type": "code",
   "execution_count": 15,
   "id": "3a57bd88-1e1c-4ee1-aaab-dab55dfac98e",
   "metadata": {},
   "outputs": [],
   "source": [
    "##Create a DataFrame using multiple Series. Explain with an example"
   ]
  },
  {
   "cell_type": "code",
   "execution_count": 16,
   "id": "576f9d0c-7682-495d-81f6-71d35b526266",
   "metadata": {},
   "outputs": [],
   "source": [
    "##Create a DataFrame using multiple Series. Explain with an example"
   ]
  },
  {
   "cell_type": "code",
   "execution_count": null,
   "id": "740cc709-ea45-4f3d-a890-229ede4311b5",
   "metadata": {},
   "outputs": [],
   "source": [
    "names = pd.Series(['Alice','Bob', 'Claire'])\n",
    "ages = pd.Series([25,30,27])\n",
    "genders = pd.Series(['Female', 'Male', 'Female'])\n",
    "\n",
    "data = {'Name':names, 'Ages':ages, 'Gender':genders}\n",
    "\n",
    "df = pd.DataFrame(data)\n",
    "print(df)\n",
    "\n"
   ]
  }
 ],
 "metadata": {
  "kernelspec": {
   "display_name": "Python 3 (ipykernel)",
   "language": "python",
   "name": "python3"
  },
  "language_info": {
   "codemirror_mode": {
    "name": "ipython",
    "version": 3
   },
   "file_extension": ".py",
   "mimetype": "text/x-python",
   "name": "python",
   "nbconvert_exporter": "python",
   "pygments_lexer": "ipython3",
   "version": "3.10.8"
  }
 },
 "nbformat": 4,
 "nbformat_minor": 5
}
